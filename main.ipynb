{
 "cells": [
  {
   "cell_type": "code",
   "execution_count": null,
   "metadata": {},
   "outputs": [],
   "source": [
    "%pip install ultralytics\n",
    "%matplotlib inline"
   ]
  },
  {
   "cell_type": "code",
   "execution_count": null,
   "metadata": {},
   "outputs": [],
   "source": [
    "from ultralytics import YOLO\n",
    "import numpy as np\n",
    "import os\n",
    "import random\n",
    "from matplotlib import pyplot as plt\n",
    "import cv2"
   ]
  },
  {
   "cell_type": "code",
   "execution_count": null,
   "metadata": {},
   "outputs": [],
   "source": [
    "# Download the pre-trained nano model.\n",
    "model = YOLO('yolov8n.pt')\n",
    "# Start training\n",
    "model.train(data='data.yaml', epochs=100, imgsz=512)"
   ]
  },
  {
   "cell_type": "code",
   "execution_count": null,
   "metadata": {},
   "outputs": [],
   "source": [
    "# Continue training.\n",
    "model = YOLO('runs/detect/train12/weights/last.pt')\n",
    "model.train(resume=True)"
   ]
  },
  {
   "cell_type": "code",
   "execution_count": null,
   "metadata": {},
   "outputs": [],
   "source": [
    "# Use trained model.\n",
    "model = YOLO('runs/detect/train12/weights/best.pt')"
   ]
  },
  {
   "cell_type": "code",
   "execution_count": null,
   "metadata": {},
   "outputs": [],
   "source": [
    "# Validate on test set.\n",
    "\n",
    "metrics = model.val(\n",
    "    data='data.yaml',\n",
    "    split='test'\n",
    ")\n",
    "print(metrics)"
   ]
  },
  {
   "cell_type": "code",
   "execution_count": null,
   "metadata": {},
   "outputs": [],
   "source": [
    "#print(metrics)\n",
    "\n",
    "# for k, v in metrics.results_dict.items():\n",
    "#     print(k, v)\n",
    "\n",
    "# precision = 0.8220600246650015\n",
    "# recall = 0.8052526793479584\n",
    "# f1 = 2 / ((1 / precision) + (1 / recall))\n",
    "# print(f1)\n",
    "\n",
    "print(metrics.box.maps)"
   ]
  },
  {
   "cell_type": "code",
   "execution_count": null,
   "metadata": {},
   "outputs": [],
   "source": [
    "def iou(expected, got):\n",
    "    \"\"\"\n",
    "    ### Description\n",
    "\n",
    "    Calculates the IoU for the given 2 boxes.\n",
    "\n",
    "    ### Parameters\n",
    "\n",
    "    - `expected`, `got`.\n",
    "\n",
    "    Order doesn't matter.\n",
    "    An array (or np.array) of 4 elements: [left, up, right, bottom] normalized to [0, 1].\n",
    "\n",
    "    ### Returns\n",
    "\n",
    "    Intersection over union (float).\n",
    "    \"\"\"\n",
    "\n",
    "    xA = max(expected[0], got[0])\n",
    "    yA = max(expected[1], got[1])\n",
    "    xB = min(expected[2], got[2])\n",
    "    yB = min(expected[3], got[3])\n",
    "\n",
    "    area_expected = (expected[2] - expected[0]) * (expected[3] - expected[1])\n",
    "    area_got = (got[2] - got[0]) * (got[3] - got[1])\n",
    "\n",
    "    area_intersection = (xB - xA) * (yB - yA)\n",
    "    area_union = area_expected + area_got - area_intersection\n",
    "\n",
    "    iou = area_intersection / area_union\n",
    "    return iou"
   ]
  },
  {
   "cell_type": "code",
   "execution_count": null,
   "metadata": {},
   "outputs": [],
   "source": [
    "def get_input_filenames_without_extension(path):\n",
    "    \"\"\"\n",
    "    Returns a list of the filenames for all the inputs, without the extension.\n",
    "    In other words, if the directory has the following files:\n",
    "    ```\n",
    "        agri_0_0.jpeg\n",
    "        agri_0_0.txt\n",
    "        agri_0_1.jpeg\n",
    "        agri_0_0.txt\n",
    "    ```\n",
    "    The output will be:\n",
    "    ```\n",
    "        ['agri_0_0', 'agri_0_1']\n",
    "    ```\n",
    "    \"\"\"\n",
    "\n",
    "    f = []\n",
    "    for (_, _, filenames) in os.walk(path):\n",
    "        f.extend([f.split(\".\")[0] for f in filenames])\n",
    "        break\n",
    "    return list(set(f))"
   ]
  },
  {
   "cell_type": "code",
   "execution_count": null,
   "metadata": {},
   "outputs": [],
   "source": [
    "\n",
    "TEST_PATH = \"datasets/mydataset/test/\"\n",
    "fnames = get_input_filenames_without_extension(TEST_PATH)\n",
    "print(fnames)"
   ]
  },
  {
   "cell_type": "code",
   "execution_count": null,
   "metadata": {},
   "outputs": [],
   "source": [
    "def bad_iou_selector(truth, got):\n",
    "    truth2 = [t for t in truth]\n",
    "    got2 = [g for g in got]\n",
    "\n",
    "    iou_li = []\n",
    "\n",
    "    for t in truth2:\n",
    "        # Get best from 'g'.\n",
    "        best = None\n",
    "        best_iou = None\n",
    "\n",
    "        for g in got2:\n",
    "            v = iou(t['xywh'], g['xywh'])\n",
    "            if best_iou is None or v > best_iou:\n",
    "                best_iou = v\n",
    "                best = g\n",
    "        if best is not None:\n",
    "            iou_li.append(best_iou)\n",
    "            try:\n",
    "                got2.remove(best)\n",
    "            except:\n",
    "                print(got2, best)\n",
    "        else:\n",
    "            # No more elements in 'got'.\n",
    "            break\n",
    "\n",
    "    return iou_li\n"
   ]
  },
  {
   "cell_type": "code",
   "execution_count": null,
   "metadata": {},
   "outputs": [],
   "source": [
    "ious_all = []\n",
    "for fname in fnames:\n",
    "    print(fname)\n",
    "    fname_img = f\"{fname}.jpeg\"\n",
    "    fname_truth = f\"{fname}.txt\"\n",
    "\n",
    "    truth = []\n",
    "\n",
    "    with open(TEST_PATH + '/' + fname_truth) as f:\n",
    "        lines = f.readlines()\n",
    "        for l in lines:\n",
    "            items = l.split()\n",
    "            truth.append({\n",
    "                'class': int(items[0]),\n",
    "                'xywh': np.array([float(x) for x in items[1:]])\n",
    "            })\n",
    "\n",
    "    got = []\n",
    "\n",
    "    res = model(TEST_PATH +  fname_img)\n",
    "    for r in res:\n",
    "        for b in r.boxes:\n",
    "            # print(int(b.cls[0]))\n",
    "            # print(float(b.conf[0]))\n",
    "            # print(np.array(b.xywh / 255)[0])\n",
    "\n",
    "            got.append({\n",
    "                'class': int(b.cls[0]),\n",
    "                'xywh': np.array([float(f) for f in (b.xywh / 512)[0]]),\n",
    "                'confidence': float(b.conf[0])\n",
    "            })\n",
    "\n",
    "    ious = bad_iou_selector(truth, got)\n",
    "    if len(ious) == 0:\n",
    "        ious_all.append(0)\n",
    "    else:\n",
    "        ious_all.append(max(ious))\n",
    "\n",
    "print(\"All:\")\n",
    "print(ious_all)\n"
   ]
  },
  {
   "cell_type": "code",
   "execution_count": null,
   "metadata": {},
   "outputs": [],
   "source": [
    "metrics = model.val(\n",
    "    data='data.yaml',\n",
    "    split='test'\n",
    ")\n",
    "print(metrics)"
   ]
  },
  {
   "cell_type": "code",
   "execution_count": null,
   "metadata": {},
   "outputs": [],
   "source": [
    "PR_curve = metrics.curves_results[0]\n",
    "x = PR_curve[0]\n",
    "y = PR_curve[1][0]\n",
    "average_precision = np.trapz(y, x)\n",
    "\n",
    "print(average_precision)"
   ]
  },
  {
   "cell_type": "code",
   "execution_count": null,
   "metadata": {},
   "outputs": [],
   "source": [
    "from matplotlib import patches\n",
    "import time\n",
    "\n",
    "def eval_img(fname):\n",
    "    print(fname)\n",
    "    fname_img = f\"{fname}.jpeg\"\n",
    "    fname_truth = f\"{fname}.txt\"\n",
    "\n",
    "    got = []\n",
    "    res = model(TEST_PATH +  fname_img)\n",
    "    for r in res:\n",
    "        for b in r.boxes:\n",
    "            # print(int(b.cls[0]))\n",
    "            # print(float(b.conf[0]))\n",
    "            # print(np.array(b.xywh / 255)[0])\n",
    "\n",
    "            got.append({\n",
    "                'class': int(b.cls[0]),\n",
    "                'xywh': np.array([float(f) for f in (b.xywh / 512)[0]]),\n",
    "                'confidence': float(b.conf[0])\n",
    "            })\n",
    "    print(got)\n",
    "\n",
    "    img = cv2.imread(TEST_PATH +  fname_img)\n",
    "\n",
    "    fig, ax = plt.subplots(1) \n",
    "    ax.imshow(img) \n",
    "\n",
    "    for g in got:\n",
    "        x, y, w, h = g['xywh'] * 512\n",
    "        x -= w/2\n",
    "        y -= h/2\n",
    "        print(x, y, w, h)\n",
    "        rect = patches.Rectangle((x, y), w, h, linewidth=4,  edgecolor='y' if g['class'] == 0 else 'r', facecolor=\"none\") \n",
    "        ax.add_patch(rect) \n",
    "    plt.show() \n"
   ]
  },
  {
   "cell_type": "code",
   "execution_count": null,
   "metadata": {},
   "outputs": [],
   "source": [
    "random.seed(time.time())\n",
    "fname = random.choice(fnames)\n",
    "eval_img(fname)"
   ]
  }
 ],
 "metadata": {
  "kernelspec": {
   "display_name": "venv",
   "language": "python",
   "name": "python3"
  },
  "language_info": {
   "codemirror_mode": {
    "name": "ipython",
    "version": 3
   },
   "file_extension": ".py",
   "mimetype": "text/x-python",
   "name": "python",
   "nbconvert_exporter": "python",
   "pygments_lexer": "ipython3",
   "version": "3.11.1"
  }
 },
 "nbformat": 4,
 "nbformat_minor": 2
}
